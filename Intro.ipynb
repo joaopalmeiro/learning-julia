{
  "cells": [
    {
      "cell_type": "code",
      "source": [
        "message = \"Hello, World!\"\n",
        "println(message)"
      ],
      "outputs": [],
      "execution_count": null,
      "metadata": {
        "collapsed": true,
        "jupyter": {
          "source_hidden": false,
          "outputs_hidden": false
        },
        "nteract": {
          "transient": {
            "deleting": false
          }
        },
        "execution": {
          "iopub.status.busy": "2020-08-04T22:32:40.553Z",
          "iopub.execute_input": "2020-08-04T22:32:41.501Z",
          "iopub.status.idle": "2020-08-04T22:32:42.316Z"
        }
      }
    },
    {
      "cell_type": "code",
      "source": [
        "typeof(message)"
      ],
      "outputs": [],
      "execution_count": null,
      "metadata": {
        "collapsed": true,
        "jupyter": {
          "source_hidden": false,
          "outputs_hidden": false
        },
        "nteract": {
          "transient": {
            "deleting": false
          }
        },
        "execution": {
          "iopub.status.busy": "2020-08-04T22:32:42.329Z",
          "iopub.execute_input": "2020-08-04T22:32:42.337Z",
          "iopub.status.idle": "2020-08-04T22:32:42.830Z"
        }
      }
    },
    {
      "cell_type": "code",
      "source": [
        "# Single-line comment\n",
        "\n",
        "#=\n",
        "\n",
        "Multi-line comment\n",
        "\n",
        "=#"
      ],
      "outputs": [],
      "execution_count": null,
      "metadata": {
        "collapsed": true,
        "jupyter": {
          "source_hidden": false,
          "outputs_hidden": false
        },
        "nteract": {
          "transient": {
            "deleting": false
          }
        },
        "execution": {
          "iopub.status.busy": "2020-08-04T22:32:42.842Z",
          "iopub.execute_input": "2020-08-04T22:32:42.852Z",
          "iopub.status.idle": "2020-08-04T22:32:42.863Z"
        }
      }
    },
    {
      "cell_type": "code",
      "source": [
        "power = 10 ^ 2\n",
        "power"
      ],
      "outputs": [],
      "execution_count": null,
      "metadata": {
        "collapsed": true,
        "jupyter": {
          "source_hidden": false,
          "outputs_hidden": false
        },
        "nteract": {
          "transient": {
            "deleting": false
          }
        },
        "execution": {
          "iopub.status.busy": "2020-08-04T22:32:42.873Z",
          "iopub.execute_input": "2020-08-04T22:32:42.880Z",
          "iopub.status.idle": "2020-08-04T22:32:43.065Z"
        }
      }
    },
    {
      "cell_type": "code",
      "source": [
        "typeof('a') # It's not possible to define a string using `''` "
      ],
      "outputs": [],
      "execution_count": null,
      "metadata": {
        "collapsed": true,
        "jupyter": {
          "source_hidden": false,
          "outputs_hidden": false
        },
        "nteract": {
          "transient": {
            "deleting": false
          }
        },
        "execution": {
          "iopub.status.busy": "2020-08-04T22:32:43.076Z",
          "iopub.execute_input": "2020-08-04T22:32:43.084Z",
          "iopub.status.idle": "2020-08-04T22:32:43.156Z"
        }
      }
    },
    {
      "cell_type": "markdown",
      "source": [
        "## Strings"
      ],
      "metadata": {
        "nteract": {
          "transient": {
            "deleting": false
          }
        }
      }
    },
    {
      "cell_type": "code",
      "source": [
        "# String interpolation\n",
        "\n",
        "str = \"String\"\n",
        "value_1 = 1\n",
        "value_2 = 2\n",
        "\n",
        "println(\"$str interpolation!\")\n",
        "println(\"$(value_1 + value_2)\")"
      ],
      "outputs": [],
      "execution_count": null,
      "metadata": {
        "collapsed": true,
        "jupyter": {
          "source_hidden": false,
          "outputs_hidden": false
        },
        "nteract": {
          "transient": {
            "deleting": false
          }
        },
        "execution": {
          "iopub.status.busy": "2020-08-04T22:32:43.166Z",
          "iopub.execute_input": "2020-08-04T22:32:43.173Z",
          "iopub.status.idle": "2020-08-04T22:32:43.201Z"
        }
      }
    },
    {
      "cell_type": "code",
      "source": [
        "# String concatenation\n",
        "\n",
        "hello = \"Hello\"\n",
        "world = \"World\"\n",
        "\n",
        "println(string(hello, \", \", world, \"!\"))\n",
        "println(hello*world)\n",
        "println(\"$hello$world\")"
      ],
      "outputs": [],
      "execution_count": null,
      "metadata": {
        "collapsed": true,
        "jupyter": {
          "source_hidden": false,
          "outputs_hidden": false
        },
        "nteract": {
          "transient": {
            "deleting": false
          }
        },
        "execution": {
          "iopub.status.busy": "2020-08-04T22:32:43.215Z",
          "iopub.execute_input": "2020-08-04T22:32:43.222Z",
          "iopub.status.idle": "2020-08-04T22:32:43.242Z"
        }
      }
    },
    {
      "cell_type": "markdown",
      "source": [
        "## Dictionaries"
      ],
      "metadata": {
        "nteract": {
          "transient": {
            "deleting": false
          }
        }
      }
    },
    {
      "cell_type": "code",
      "source": [
        "d = Dict(\"key\" => \"value\") # Dictionaries are not ordered\n",
        "d[\"new_key\"] = \"new_value\"\n",
        "d"
      ],
      "outputs": [],
      "execution_count": null,
      "metadata": {
        "collapsed": true,
        "jupyter": {
          "source_hidden": false,
          "outputs_hidden": false
        },
        "nteract": {
          "transient": {
            "deleting": false
          }
        },
        "execution": {
          "iopub.status.busy": "2020-08-04T22:32:43.253Z",
          "iopub.execute_input": "2020-08-04T22:32:43.260Z",
          "iopub.status.idle": "2020-08-04T22:32:43.919Z"
        }
      }
    },
    {
      "cell_type": "code",
      "source": [
        "d[\"key\"]"
      ],
      "outputs": [],
      "execution_count": null,
      "metadata": {
        "collapsed": true,
        "jupyter": {
          "source_hidden": false,
          "outputs_hidden": false
        },
        "nteract": {
          "transient": {
            "deleting": false
          }
        },
        "execution": {
          "iopub.status.busy": "2020-08-04T22:32:43.935Z",
          "iopub.execute_input": "2020-08-04T22:32:43.943Z",
          "iopub.status.idle": "2020-08-04T22:32:44.102Z"
        }
      }
    },
    {
      "cell_type": "code",
      "source": [
        "pop!(d, \"new_key\")"
      ],
      "outputs": [],
      "execution_count": null,
      "metadata": {
        "collapsed": true,
        "jupyter": {
          "source_hidden": false,
          "outputs_hidden": false
        },
        "nteract": {
          "transient": {
            "deleting": false
          }
        },
        "execution": {
          "iopub.status.busy": "2020-08-04T22:32:44.113Z",
          "iopub.execute_input": "2020-08-04T22:32:44.119Z",
          "iopub.status.idle": "2020-08-04T22:32:44.136Z"
        }
      }
    },
    {
      "cell_type": "code",
      "source": [
        "d"
      ],
      "outputs": [],
      "execution_count": null,
      "metadata": {
        "collapsed": true,
        "jupyter": {
          "source_hidden": false,
          "outputs_hidden": false
        },
        "nteract": {
          "transient": {
            "deleting": false
          }
        },
        "execution": {
          "iopub.status.busy": "2020-08-04T22:32:44.148Z",
          "iopub.execute_input": "2020-08-04T22:32:44.155Z",
          "iopub.status.idle": "2020-08-04T22:32:44.171Z"
        }
      }
    },
    {
      "cell_type": "markdown",
      "source": [
        "## Tuples"
      ],
      "metadata": {
        "nteract": {
          "transient": {
            "deleting": false
          }
        }
      }
    },
    {
      "cell_type": "code",
      "source": [
        "t = (1, 2, 3) # Tuples are ordered and immutable\n",
        "t"
      ],
      "outputs": [],
      "execution_count": null,
      "metadata": {
        "collapsed": true,
        "jupyter": {
          "source_hidden": false,
          "outputs_hidden": false
        },
        "nteract": {
          "transient": {
            "deleting": false
          }
        },
        "execution": {
          "iopub.status.busy": "2020-08-04T22:32:44.183Z",
          "iopub.execute_input": "2020-08-04T22:32:44.192Z",
          "iopub.status.idle": "2020-08-04T22:32:44.549Z"
        }
      }
    },
    {
      "cell_type": "code",
      "source": [
        "t[1] # 1-based indexing"
      ],
      "outputs": [],
      "execution_count": null,
      "metadata": {
        "collapsed": true,
        "jupyter": {
          "source_hidden": false,
          "outputs_hidden": false
        },
        "nteract": {
          "transient": {
            "deleting": false
          }
        },
        "execution": {
          "iopub.status.busy": "2020-08-04T22:32:44.568Z",
          "iopub.execute_input": "2020-08-04T22:32:44.580Z",
          "iopub.status.idle": "2020-08-04T22:32:44.596Z"
        }
      }
    },
    {
      "cell_type": "markdown",
      "source": [
        "## Arrays"
      ],
      "metadata": {
        "nteract": {
          "transient": {
            "deleting": false
          }
        }
      }
    },
    {
      "cell_type": "code",
      "source": [
        "a = [1, 2, 3] # Arrays are ordered and mutable\n",
        "a"
      ],
      "outputs": [],
      "execution_count": null,
      "metadata": {
        "collapsed": true,
        "jupyter": {
          "source_hidden": false,
          "outputs_hidden": false
        },
        "nteract": {
          "transient": {
            "deleting": false
          }
        },
        "execution": {
          "iopub.status.busy": "2020-08-04T22:32:44.608Z",
          "iopub.execute_input": "2020-08-04T22:32:44.615Z",
          "iopub.status.idle": "2020-08-04T22:32:45.519Z"
        }
      }
    },
    {
      "cell_type": "code",
      "source": [
        "a[2]"
      ],
      "outputs": [],
      "execution_count": null,
      "metadata": {
        "collapsed": true,
        "jupyter": {
          "source_hidden": false,
          "outputs_hidden": false
        },
        "nteract": {
          "transient": {
            "deleting": false
          }
        },
        "execution": {
          "iopub.status.busy": "2020-08-04T22:32:45.531Z",
          "iopub.execute_input": "2020-08-04T22:32:45.540Z",
          "iopub.status.idle": "2020-08-04T22:32:45.556Z"
        }
      }
    },
    {
      "cell_type": "code",
      "source": [
        "a[1] = 10\n",
        "a"
      ],
      "outputs": [],
      "execution_count": null,
      "metadata": {
        "collapsed": true,
        "jupyter": {
          "source_hidden": false,
          "outputs_hidden": false
        },
        "nteract": {
          "transient": {
            "deleting": false
          }
        },
        "execution": {
          "iopub.status.busy": "2020-08-04T22:32:45.566Z",
          "iopub.execute_input": "2020-08-04T22:32:45.575Z",
          "iopub.status.idle": "2020-08-04T22:32:45.604Z"
        }
      }
    },
    {
      "cell_type": "code",
      "source": [
        "push!(a, 25) # Adds an element to the end of an array\n",
        "a"
      ],
      "outputs": [],
      "execution_count": null,
      "metadata": {
        "collapsed": true,
        "jupyter": {
          "source_hidden": false,
          "outputs_hidden": false
        },
        "nteract": {
          "transient": {
            "deleting": false
          }
        },
        "execution": {
          "iopub.status.busy": "2020-08-04T22:32:45.613Z",
          "iopub.execute_input": "2020-08-04T22:32:45.620Z",
          "iopub.status.idle": "2020-08-04T22:32:45.642Z"
        }
      }
    },
    {
      "cell_type": "code",
      "source": [
        "pop!(a) # Removes the last element of an array\n",
        "a"
      ],
      "outputs": [],
      "execution_count": null,
      "metadata": {
        "collapsed": true,
        "jupyter": {
          "source_hidden": false,
          "outputs_hidden": false
        },
        "nteract": {
          "transient": {
            "deleting": false
          }
        },
        "execution": {
          "iopub.status.busy": "2020-08-04T22:32:45.654Z",
          "iopub.execute_input": "2020-08-04T22:32:45.662Z",
          "iopub.status.idle": "2020-08-04T22:32:45.678Z"
        }
      }
    },
    {
      "cell_type": "code",
      "source": [
        "aa = [[1, 2, 3], [4, 5, 6]]\n",
        "aa"
      ],
      "outputs": [],
      "execution_count": null,
      "metadata": {
        "collapsed": true,
        "jupyter": {
          "source_hidden": false,
          "outputs_hidden": false
        },
        "nteract": {
          "transient": {
            "deleting": false
          }
        },
        "execution": {
          "iopub.status.busy": "2020-08-04T22:32:45.688Z",
          "iopub.execute_input": "2020-08-04T22:32:45.695Z",
          "iopub.status.idle": "2020-08-04T22:32:46.525Z"
        }
      }
    },
    {
      "cell_type": "code",
      "source": [
        "rand(4, 3) # Random values between 0 and 1"
      ],
      "outputs": [],
      "execution_count": null,
      "metadata": {
        "collapsed": true,
        "jupyter": {
          "source_hidden": false,
          "outputs_hidden": false
        },
        "nteract": {
          "transient": {
            "deleting": false
          }
        },
        "execution": {
          "iopub.status.busy": "2020-08-04T22:32:46.536Z",
          "iopub.execute_input": "2020-08-04T22:32:46.543Z",
          "iopub.status.idle": "2020-08-04T22:32:47.483Z"
        }
      }
    },
    {
      "cell_type": "code",
      "source": [
        "rand(4, 3, 1)"
      ],
      "outputs": [],
      "execution_count": null,
      "metadata": {
        "collapsed": true,
        "jupyter": {
          "source_hidden": false,
          "outputs_hidden": false
        },
        "nteract": {
          "transient": {
            "deleting": false
          }
        },
        "execution": {
          "iopub.status.busy": "2020-08-04T22:32:47.496Z",
          "iopub.execute_input": "2020-08-04T22:32:47.507Z",
          "iopub.status.idle": "2020-08-04T22:32:48.473Z"
        }
      }
    },
    {
      "cell_type": "markdown",
      "source": [
        "## Loops"
      ],
      "metadata": {
        "nteract": {
          "transient": {
            "deleting": false
          }
        }
      }
    },
    {
      "cell_type": "code",
      "source": [
        "n = 0\n",
        "while n < 10\n",
        "  n += 1\n",
        "  println(n)\n",
        "end"
      ],
      "outputs": [],
      "execution_count": null,
      "metadata": {
        "collapsed": true,
        "jupyter": {
          "source_hidden": false,
          "outputs_hidden": false
        },
        "nteract": {
          "transient": {
            "deleting": false
          }
        },
        "execution": {
          "iopub.status.busy": "2020-08-04T22:34:53.447Z",
          "iopub.execute_input": "2020-08-04T22:34:53.455Z",
          "iopub.status.idle": "2020-08-04T22:34:53.475Z"
        }
      }
    },
    {
      "cell_type": "code",
      "source": [
        "println(\"`in`\")\n",
        "for n in 1:5 # Inclusive\n",
        "  println(n)\n",
        "end\n",
        "\n",
        "println(\"`=`\")\n",
        "for n = 1:5\n",
        "  println(n)\n",
        "end\n",
        "\n",
        "println(\"`∈`\")\n",
        "for n ∈ 1:5\n",
        "  println(n)\n",
        "end"
      ],
      "outputs": [],
      "execution_count": null,
      "metadata": {
        "collapsed": true,
        "jupyter": {
          "source_hidden": false,
          "outputs_hidden": false
        },
        "nteract": {
          "transient": {
            "deleting": false
          }
        },
        "execution": {
          "iopub.status.busy": "2020-08-04T22:38:30.957Z",
          "iopub.execute_input": "2020-08-04T22:38:30.965Z",
          "iopub.status.idle": "2020-08-04T22:38:30.985Z"
        }
      }
    },
    {
      "cell_type": "code",
      "source": [
        "m, n = 5, 5\n",
        "A = zeros(m, n)"
      ],
      "outputs": [],
      "execution_count": null,
      "metadata": {
        "collapsed": true,
        "jupyter": {
          "source_hidden": false,
          "outputs_hidden": false
        },
        "nteract": {
          "transient": {
            "deleting": false
          }
        },
        "execution": {
          "iopub.status.busy": "2020-08-04T22:39:18.343Z",
          "iopub.execute_input": "2020-08-04T22:39:18.357Z",
          "iopub.status.idle": "2020-08-04T22:39:18.376Z"
        }
      }
    },
    {
      "cell_type": "code",
      "source": [
        "for i in 1:m\n",
        "  for j in 1:n\n",
        "    A[i, j] = i + j\n",
        "  end\n",
        "end\n",
        "\n",
        "A"
      ],
      "outputs": [],
      "execution_count": null,
      "metadata": {
        "collapsed": true,
        "jupyter": {
          "source_hidden": false,
          "outputs_hidden": false
        },
        "nteract": {
          "transient": {
            "deleting": false
          }
        },
        "execution": {
          "iopub.status.busy": "2020-08-04T22:40:01.658Z",
          "iopub.execute_input": "2020-08-04T22:40:01.665Z",
          "iopub.status.idle": "2020-08-04T22:40:01.682Z"
        }
      }
    },
    {
      "cell_type": "code",
      "source": [
        "# Nested `for` loop\n",
        "\n",
        "B = zeros(m, n)\n",
        "\n",
        "for i in 1:m, j in 1:n\n",
        "  B[i, j] = i + j\n",
        "end\n",
        "\n",
        "B"
      ],
      "outputs": [],
      "execution_count": null,
      "metadata": {
        "collapsed": true,
        "jupyter": {
          "source_hidden": false,
          "outputs_hidden": false
        },
        "nteract": {
          "transient": {
            "deleting": false
          }
        },
        "execution": {
          "iopub.status.busy": "2020-08-04T22:41:38.195Z",
          "iopub.execute_input": "2020-08-04T22:41:38.203Z",
          "iopub.status.idle": "2020-08-04T22:41:38.222Z"
        }
      }
    },
    {
      "cell_type": "code",
      "source": [
        "# The more \"Julia\" way is with an array comprehension\n",
        "\n",
        "C = [i + j for i in 1:m, j in 1:n]\n",
        "C"
      ],
      "outputs": [],
      "execution_count": null,
      "metadata": {
        "collapsed": true,
        "jupyter": {
          "source_hidden": false,
          "outputs_hidden": false
        },
        "nteract": {
          "transient": {
            "deleting": false
          }
        },
        "execution": {
          "iopub.status.busy": "2020-08-04T22:43:48.312Z",
          "iopub.execute_input": "2020-08-04T22:43:48.323Z",
          "iopub.status.idle": "2020-08-04T22:43:48.992Z"
        }
      }
    },
    {
      "cell_type": "markdown",
      "source": [
        "## Conditionals"
      ],
      "metadata": {
        "nteract": {
          "transient": {
            "deleting": false
          }
        }
      }
    },
    {
      "cell_type": "markdown",
      "source": [],
      "metadata": {
        "nteract": {
          "transient": {
            "deleting": false
          }
        }
      }
    }
  ],
  "metadata": {
    "kernel_info": {
      "name": "julia-1.5"
    },
    "language_info": {
      "file_extension": ".jl",
      "name": "julia",
      "mimetype": "application/julia",
      "version": "1.5.0"
    },
    "kernelspec": {
      "argv": [
        "/Applications/Julia-1.5.app/Contents/Resources/julia/bin/julia",
        "-i",
        "--startup-file=yes",
        "--color=yes",
        "--project=@.",
        "/Users/joao.palmeiro/.julia/packages/IJulia/DrVMH/src/kernel.jl",
        "{connection_file}"
      ],
      "display_name": "Julia 1.5.0",
      "env": {},
      "interrupt_mode": "signal",
      "language": "julia",
      "name": "julia-1.5"
    },
    "nteract": {
      "version": "0.24.1"
    }
  },
  "nbformat": 4,
  "nbformat_minor": 0
}