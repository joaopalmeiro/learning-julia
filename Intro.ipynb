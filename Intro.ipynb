{
  "cells": [
    {
      "cell_type": "code",
      "source": [
        "message = \"Hello, World!\"\n",
        "println(message)"
      ],
      "outputs": [],
      "execution_count": null,
      "metadata": {
        "collapsed": true,
        "jupyter": {
          "source_hidden": false,
          "outputs_hidden": false
        },
        "nteract": {
          "transient": {
            "deleting": false
          }
        },
        "execution": {
          "iopub.status.busy": "2020-08-03T20:13:42.602Z",
          "iopub.execute_input": "2020-08-03T20:13:42.607Z",
          "iopub.status.idle": "2020-08-03T20:13:42.636Z"
        }
      }
    },
    {
      "cell_type": "code",
      "source": [
        "typeof(message)"
      ],
      "outputs": [],
      "execution_count": null,
      "metadata": {
        "collapsed": true,
        "jupyter": {
          "source_hidden": false,
          "outputs_hidden": false
        },
        "nteract": {
          "transient": {
            "deleting": false
          }
        },
        "execution": {
          "iopub.status.busy": "2020-08-03T20:13:42.879Z",
          "iopub.execute_input": "2020-08-03T20:13:42.884Z",
          "iopub.status.idle": "2020-08-03T20:13:42.892Z"
        }
      }
    },
    {
      "cell_type": "code",
      "source": [
        "# Single-line comment\n",
        "\n",
        "#=\n",
        "\n",
        "Multi-line comment\n",
        "\n",
        "=#"
      ],
      "outputs": [],
      "execution_count": null,
      "metadata": {
        "collapsed": true,
        "jupyter": {
          "source_hidden": false,
          "outputs_hidden": false
        },
        "nteract": {
          "transient": {
            "deleting": false
          }
        },
        "execution": {
          "iopub.status.busy": "2020-08-03T16:23:28.507Z",
          "iopub.execute_input": "2020-08-03T16:23:28.512Z",
          "iopub.status.idle": "2020-08-03T16:23:28.519Z"
        }
      }
    },
    {
      "cell_type": "code",
      "source": [
        "power = 10 ^ 2\n",
        "power"
      ],
      "outputs": [],
      "execution_count": null,
      "metadata": {
        "collapsed": true,
        "jupyter": {
          "source_hidden": false,
          "outputs_hidden": false
        },
        "nteract": {
          "transient": {
            "deleting": false
          }
        },
        "execution": {
          "iopub.status.busy": "2020-08-03T20:11:36.561Z",
          "iopub.execute_input": "2020-08-03T20:11:37.392Z",
          "iopub.status.idle": "2020-08-03T20:11:38.389Z"
        }
      }
    },
    {
      "cell_type": "code",
      "source": [
        "typeof('a') # It's not possible to define a string using `''` "
      ],
      "outputs": [],
      "execution_count": null,
      "metadata": {
        "collapsed": true,
        "jupyter": {
          "source_hidden": false,
          "outputs_hidden": false
        },
        "nteract": {
          "transient": {
            "deleting": false
          }
        },
        "execution": {
          "iopub.status.busy": "2020-08-03T20:12:54.485Z",
          "iopub.execute_input": "2020-08-03T20:12:54.492Z",
          "iopub.status.idle": "2020-08-03T20:12:54.815Z"
        }
      }
    },
    {
      "cell_type": "markdown",
      "source": [
        "## Strings"
      ],
      "metadata": {
        "nteract": {
          "transient": {
            "deleting": false
          }
        }
      }
    },
    {
      "cell_type": "code",
      "source": [
        "# String interpolation\n",
        "\n",
        "str = \"String\"\n",
        "value_1 = 1\n",
        "value_2 = 2\n",
        "\n",
        "println(\"$str interpolation!\")\n",
        "println(\"$(value_1 + value_2)\")"
      ],
      "outputs": [],
      "execution_count": null,
      "metadata": {
        "collapsed": true,
        "jupyter": {
          "source_hidden": false,
          "outputs_hidden": false
        },
        "nteract": {
          "transient": {
            "deleting": false
          }
        },
        "execution": {
          "iopub.status.busy": "2020-08-03T20:22:52.620Z",
          "iopub.execute_input": "2020-08-03T20:22:52.625Z",
          "iopub.status.idle": "2020-08-03T20:22:52.635Z"
        }
      }
    },
    {
      "cell_type": "code",
      "source": [
        "# String concatenation\n",
        "\n",
        "hello = \"Hello\"\n",
        "world = \"World\"\n",
        "\n",
        "println(string(hello, \", \", world, \"!\"))\n",
        "println(hello*world)\n",
        "println(\"$hello$world\")"
      ],
      "outputs": [],
      "execution_count": null,
      "metadata": {
        "collapsed": true,
        "jupyter": {
          "source_hidden": false,
          "outputs_hidden": false
        },
        "nteract": {
          "transient": {
            "deleting": false
          }
        },
        "execution": {
          "iopub.status.busy": "2020-08-03T20:26:29.291Z",
          "iopub.execute_input": "2020-08-03T20:26:29.295Z",
          "iopub.status.idle": "2020-08-03T20:26:29.306Z"
        }
      }
    },
    {
      "cell_type": "markdown",
      "source": [
        "## Dictionaries"
      ],
      "metadata": {
        "nteract": {
          "transient": {
            "deleting": false
          }
        }
      }
    },
    {
      "cell_type": "code",
      "source": [
        "d = Dict(\"key\" => \"value\") # Dictionaries are not ordered\n",
        "d[\"new_key\"] = \"new_value\"\n",
        "d"
      ],
      "outputs": [],
      "execution_count": null,
      "metadata": {
        "collapsed": true,
        "jupyter": {
          "source_hidden": false,
          "outputs_hidden": false
        },
        "nteract": {
          "transient": {
            "deleting": false
          }
        },
        "execution": {
          "iopub.status.busy": "2020-08-03T20:40:19.998Z",
          "iopub.execute_input": "2020-08-03T20:40:20.002Z",
          "iopub.status.idle": "2020-08-03T20:40:20.012Z"
        }
      }
    },
    {
      "cell_type": "code",
      "source": [
        "d[\"key\"]"
      ],
      "outputs": [],
      "execution_count": null,
      "metadata": {
        "collapsed": true,
        "jupyter": {
          "source_hidden": false,
          "outputs_hidden": false
        },
        "nteract": {
          "transient": {
            "deleting": false
          }
        },
        "execution": {
          "iopub.status.busy": "2020-08-03T20:40:20.233Z",
          "iopub.execute_input": "2020-08-03T20:40:20.238Z",
          "iopub.status.idle": "2020-08-03T20:40:20.247Z"
        }
      }
    },
    {
      "cell_type": "code",
      "source": [
        "pop!(d, \"new_key\")"
      ],
      "outputs": [],
      "execution_count": null,
      "metadata": {
        "collapsed": true,
        "jupyter": {
          "source_hidden": false,
          "outputs_hidden": false
        },
        "nteract": {
          "transient": {
            "deleting": false
          }
        },
        "execution": {
          "iopub.status.busy": "2020-08-03T20:40:20.862Z",
          "iopub.execute_input": "2020-08-03T20:40:20.868Z",
          "iopub.status.idle": "2020-08-03T20:40:20.877Z"
        }
      }
    },
    {
      "cell_type": "code",
      "source": [
        "d"
      ],
      "outputs": [],
      "execution_count": null,
      "metadata": {
        "collapsed": true,
        "jupyter": {
          "source_hidden": false,
          "outputs_hidden": false
        },
        "nteract": {
          "transient": {
            "deleting": false
          }
        },
        "execution": {
          "iopub.status.busy": "2020-08-03T20:40:21.160Z",
          "iopub.execute_input": "2020-08-03T20:40:21.167Z",
          "iopub.status.idle": "2020-08-03T20:40:21.176Z"
        }
      }
    },
    {
      "cell_type": "markdown",
      "source": [
        "## Tuples"
      ],
      "metadata": {
        "nteract": {
          "transient": {
            "deleting": false
          }
        }
      }
    },
    {
      "cell_type": "code",
      "source": [
        "t = (1, 2, 3) # Tuples are ordered and immutable\n",
        "t"
      ],
      "outputs": [],
      "execution_count": null,
      "metadata": {
        "collapsed": true,
        "jupyter": {
          "source_hidden": false,
          "outputs_hidden": false
        },
        "nteract": {
          "transient": {
            "deleting": false
          }
        },
        "execution": {
          "iopub.status.busy": "2020-08-03T20:41:46.754Z",
          "iopub.execute_input": "2020-08-03T20:41:46.758Z",
          "iopub.status.idle": "2020-08-03T20:41:46.768Z"
        }
      }
    },
    {
      "cell_type": "code",
      "source": [
        "t[1] # 1-based indexing"
      ],
      "outputs": [],
      "execution_count": null,
      "metadata": {
        "collapsed": true,
        "jupyter": {
          "source_hidden": false,
          "outputs_hidden": false
        },
        "nteract": {
          "transient": {
            "deleting": false
          }
        },
        "execution": {
          "iopub.status.busy": "2020-08-03T20:42:05.017Z",
          "iopub.execute_input": "2020-08-03T20:42:05.022Z",
          "iopub.status.idle": "2020-08-03T20:42:05.035Z"
        }
      }
    },
    {
      "cell_type": "markdown",
      "source": [
        "## Arrays"
      ],
      "metadata": {
        "nteract": {
          "transient": {
            "deleting": false
          }
        }
      }
    },
    {
      "cell_type": "code",
      "source": [
        "a = [1, 2, 3] # Arrays are ordered and mutable\n",
        "a"
      ],
      "outputs": [],
      "execution_count": null,
      "metadata": {
        "collapsed": true,
        "jupyter": {
          "source_hidden": false,
          "outputs_hidden": false
        },
        "nteract": {
          "transient": {
            "deleting": false
          }
        },
        "execution": {
          "iopub.status.busy": "2020-08-03T20:43:40.759Z",
          "iopub.execute_input": "2020-08-03T20:43:40.766Z",
          "iopub.status.idle": "2020-08-03T20:43:41.571Z"
        }
      }
    },
    {
      "cell_type": "code",
      "source": [
        "a[2]"
      ],
      "outputs": [],
      "execution_count": null,
      "metadata": {
        "collapsed": true,
        "jupyter": {
          "source_hidden": false,
          "outputs_hidden": false
        },
        "nteract": {
          "transient": {
            "deleting": false
          }
        },
        "execution": {
          "iopub.status.busy": "2020-08-03T20:43:44.146Z",
          "iopub.execute_input": "2020-08-03T20:43:44.153Z",
          "iopub.status.idle": "2020-08-03T20:43:44.164Z"
        }
      }
    },
    {
      "cell_type": "code",
      "source": [
        "a[1] = 10\n",
        "a"
      ],
      "outputs": [],
      "execution_count": null,
      "metadata": {
        "collapsed": true,
        "jupyter": {
          "source_hidden": false,
          "outputs_hidden": false
        },
        "nteract": {
          "transient": {
            "deleting": false
          }
        },
        "execution": {
          "iopub.status.busy": "2020-08-03T20:43:51.542Z",
          "iopub.execute_input": "2020-08-03T20:43:51.549Z",
          "iopub.status.idle": "2020-08-03T20:43:51.561Z"
        }
      }
    },
    {
      "cell_type": "code",
      "source": [
        "push!(a, 25) # Adds an element to the end of an array\n",
        "a"
      ],
      "outputs": [],
      "execution_count": null,
      "metadata": {
        "collapsed": true,
        "jupyter": {
          "source_hidden": false,
          "outputs_hidden": false
        },
        "nteract": {
          "transient": {
            "deleting": false
          }
        },
        "execution": {
          "iopub.status.busy": "2020-08-03T20:46:32.977Z",
          "iopub.execute_input": "2020-08-03T20:46:32.984Z",
          "iopub.status.idle": "2020-08-03T20:46:33.003Z"
        }
      }
    },
    {
      "cell_type": "code",
      "source": [
        "pop!(a) # Removes the last element of an array\n",
        "a"
      ],
      "outputs": [],
      "execution_count": null,
      "metadata": {
        "collapsed": true,
        "jupyter": {
          "source_hidden": false,
          "outputs_hidden": false
        },
        "nteract": {
          "transient": {
            "deleting": false
          }
        },
        "execution": {
          "iopub.status.busy": "2020-08-03T20:46:42.680Z",
          "iopub.execute_input": "2020-08-03T20:46:42.689Z",
          "iopub.status.idle": "2020-08-03T20:46:42.708Z"
        }
      }
    },
    {
      "cell_type": "code",
      "source": [
        "aa = [[1, 2, 3], [4, 5, 6]]\n",
        "aa"
      ],
      "outputs": [],
      "execution_count": null,
      "metadata": {
        "collapsed": true,
        "jupyter": {
          "source_hidden": false,
          "outputs_hidden": false
        },
        "nteract": {
          "transient": {
            "deleting": false
          }
        },
        "execution": {
          "iopub.status.busy": "2020-08-03T20:50:02.535Z",
          "iopub.execute_input": "2020-08-03T20:50:02.543Z",
          "iopub.status.idle": "2020-08-03T20:50:03.309Z"
        }
      }
    },
    {
      "cell_type": "code",
      "source": [
        "rand(4, 3) # Random values between 0 and 1"
      ],
      "outputs": [],
      "execution_count": null,
      "metadata": {
        "collapsed": true,
        "jupyter": {
          "source_hidden": false,
          "outputs_hidden": false
        },
        "nteract": {
          "transient": {
            "deleting": false
          }
        },
        "execution": {
          "iopub.status.busy": "2020-08-03T20:54:15.556Z",
          "iopub.execute_input": "2020-08-03T20:54:15.564Z",
          "iopub.status.idle": "2020-08-03T20:54:15.580Z"
        }
      }
    },
    {
      "cell_type": "code",
      "source": [
        "rand(4, 3, 1)"
      ],
      "outputs": [],
      "execution_count": null,
      "metadata": {
        "collapsed": true,
        "jupyter": {
          "source_hidden": false,
          "outputs_hidden": false
        },
        "nteract": {
          "transient": {
            "deleting": false
          }
        },
        "execution": {
          "iopub.status.busy": "2020-08-03T20:54:24.811Z",
          "iopub.execute_input": "2020-08-03T20:54:24.819Z",
          "iopub.status.idle": "2020-08-03T20:54:24.840Z"
        }
      }
    },
    {
      "cell_type": "code",
      "source": [],
      "outputs": [],
      "execution_count": null,
      "metadata": {
        "collapsed": true,
        "jupyter": {
          "source_hidden": false,
          "outputs_hidden": false
        },
        "nteract": {
          "transient": {
            "deleting": false
          }
        }
      }
    }
  ],
  "metadata": {
    "kernel_info": {
      "name": "julia-1.5"
    },
    "language_info": {
      "file_extension": ".jl",
      "name": "julia",
      "mimetype": "application/julia",
      "version": "1.5.0"
    },
    "kernelspec": {
      "argv": [
        "/Applications/Julia-1.5.app/Contents/Resources/julia/bin/julia",
        "-i",
        "--startup-file=yes",
        "--color=yes",
        "--project=@.",
        "/Users/joao.palmeiro/.julia/packages/IJulia/DrVMH/src/kernel.jl",
        "{connection_file}"
      ],
      "display_name": "Julia 1.5.0",
      "env": {},
      "interrupt_mode": "signal",
      "language": "julia",
      "name": "julia-1.5"
    },
    "nteract": {
      "version": "0.24.1"
    }
  },
  "nbformat": 4,
  "nbformat_minor": 0
}