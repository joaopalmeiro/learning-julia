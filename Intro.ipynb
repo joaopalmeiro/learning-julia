{
  "cells": [
    {
      "cell_type": "code",
      "source": [
        "message = \"Hello, World!\"\n",
        "println(message)"
      ],
      "outputs": [],
      "execution_count": null,
      "metadata": {
        "collapsed": true,
        "jupyter": {
          "source_hidden": false,
          "outputs_hidden": false
        },
        "nteract": {
          "transient": {
            "deleting": false
          }
        },
        "execution": {
          "iopub.status.busy": "2020-08-03T16:22:20.460Z",
          "iopub.execute_input": "2020-08-03T16:22:20.475Z",
          "iopub.status.idle": "2020-08-03T16:22:20.484Z"
        }
      }
    },
    {
      "cell_type": "code",
      "source": [
        "typeof(message)"
      ],
      "outputs": [],
      "execution_count": null,
      "metadata": {
        "collapsed": true,
        "jupyter": {
          "source_hidden": false,
          "outputs_hidden": false
        },
        "nteract": {
          "transient": {
            "deleting": false
          }
        },
        "execution": {
          "iopub.status.busy": "2020-08-03T16:22:20.751Z",
          "iopub.execute_input": "2020-08-03T16:22:20.755Z",
          "iopub.status.idle": "2020-08-03T16:22:20.763Z"
        }
      }
    },
    {
      "cell_type": "code",
      "source": [
        "# Single-line comment\n",
        "\n",
        "#=\n",
        "\n",
        "Multi-line comment\n",
        "\n",
        "=#"
      ],
      "outputs": [],
      "execution_count": null,
      "metadata": {
        "collapsed": true,
        "jupyter": {
          "source_hidden": false,
          "outputs_hidden": false
        },
        "nteract": {
          "transient": {
            "deleting": false
          }
        },
        "execution": {
          "iopub.status.busy": "2020-08-03T16:23:28.507Z",
          "iopub.execute_input": "2020-08-03T16:23:28.512Z",
          "iopub.status.idle": "2020-08-03T16:23:28.519Z"
        }
      }
    },
    {
      "cell_type": "code",
      "source": [
        "power = 10 ^ 2\n",
        "power"
      ],
      "outputs": [],
      "execution_count": null,
      "metadata": {
        "collapsed": true,
        "jupyter": {
          "source_hidden": false,
          "outputs_hidden": false
        },
        "nteract": {
          "transient": {
            "deleting": false
          }
        },
        "execution": {
          "iopub.status.busy": "2020-08-03T16:24:55.435Z",
          "iopub.execute_input": "2020-08-03T16:24:55.440Z",
          "iopub.status.idle": "2020-08-03T16:24:55.673Z"
        }
      }
    }
  ],
  "metadata": {
    "kernel_info": {
      "name": "julia-1.5"
    },
    "language_info": {
      "file_extension": ".jl",
      "name": "julia",
      "mimetype": "application/julia",
      "version": "1.5.0"
    },
    "kernelspec": {
      "argv": [
        "/Applications/Julia-1.5.app/Contents/Resources/julia/bin/julia",
        "-i",
        "--startup-file=yes",
        "--color=yes",
        "--project=@.",
        "/Users/joao.palmeiro/.julia/packages/IJulia/DrVMH/src/kernel.jl",
        "{connection_file}"
      ],
      "display_name": "Julia 1.5.0",
      "env": {},
      "interrupt_mode": "signal",
      "language": "julia",
      "name": "julia-1.5"
    },
    "nteract": {
      "version": "0.24.1"
    }
  },
  "nbformat": 4,
  "nbformat_minor": 0
}